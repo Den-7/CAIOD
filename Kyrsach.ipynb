{
 "cells": [
  {
   "cell_type": "markdown",
   "id": "convertible-acceptance",
   "metadata": {},
   "source": [
    "## Задача 1. «Треугольник с максимальным периметром»\n",
    "Массив A состоит из целых положительных чисел - длин отрезков. Составьте из трех отрезков такой треугольник, чтобы его периметр был максимально возможным. Если невозможно составить треугольник с положительной площадью - функция возвращает 0."
   ]
  },
  {
   "cell_type": "code",
   "execution_count": 1,
   "id": "established-bearing",
   "metadata": {},
   "outputs": [
    {
     "name": "stdout",
     "output_type": "stream",
     "text": [
      "8\n"
     ]
    }
   ],
   "source": [
    "mas = [3,6,2,3]\n",
    "\n",
    "def max_perimetr(arr):\n",
    "    for i in range(len(mas)):\n",
    "        mas[i] = int(mas[i]) \n",
    "    mas.sort(reverse = True)\n",
    "    max_length = 0  # finding a max triangle\n",
    "    for i in range(len(mas)):\n",
    "        for j in range(i + 1, len(mas)):\n",
    "            for k in range(j + 1, len(mas)):\n",
    "                if mas[i] < mas[j] + mas[k]:\n",
    "                    max_length = max(max_length, mas[i] + mas[j] + mas[k])\n",
    "    print(max_length)\n",
    "    return\n",
    "max_perimetr(mas)"
   ]
  },
  {
   "cell_type": "markdown",
   "id": "turkish-indie",
   "metadata": {},
   "source": [
    "# Задача 2. «Максимальное число»\n",
    "\n",
    "Дан массив неотрицательных целых чисел nums. Расположите их в таком порядке, чтобы вместе они образовали максимально возможное число."
   ]
  },
  {
   "cell_type": "code",
   "execution_count": 4,
   "id": "floral-premium",
   "metadata": {},
   "outputs": [
    {
     "name": "stdout",
     "output_type": "stream",
     "text": [
      "Введите числа: 3 5 9\n",
      "953\n"
     ]
    }
   ],
   "source": [
    "input_b = input(\"Введите числа: \")\n",
    "def compare(got, cur):\n",
    "    for i in range(min(len(cur), len(got))):\n",
    "        if ord(cur[i]) > ord(got[i]):\n",
    "            return cur\n",
    "        elif ord(cur[i]) < ord(got[i]):\n",
    "            return got\n",
    "        else:\n",
    "            if i == min(len(cur), len(got)) - 1:\n",
    "                if len(cur) == len(got):\n",
    "                    return cur\n",
    "                if len(got) > len(cur):\n",
    "                    longer = got\n",
    "                    shorter = cur\n",
    "                else:\n",
    "                    longer = cur\n",
    "                    shorter = got\n",
    "                if ord(longer[i + 1]) <= ord(shorter[0]):\n",
    "                    return shorter\n",
    "                else:\n",
    "                    return longer\n",
    "\n",
    "\n",
    "try:\n",
    "    b = input_b.split()\n",
    "    res = ''\n",
    "    while len(b) > 0:\n",
    "        c = '0'\n",
    "        for i in b:\n",
    "            c = compare(i, c)\n",
    "        res += c\n",
    "        b.remove(c)\n",
    "    if len(res) > 1 and res[0] == '0':\n",
    "        print(\"Такого числа не существует\")\n",
    "    else:\n",
    "        print(res)\n",
    "except ValueError:\n",
    "    print(\"Введите корректные данные\")\n",
    "    \n",
    "    "
   ]
  },
  {
   "cell_type": "markdown",
   "id": "stunning-movement",
   "metadata": {},
   "source": [
    "## Задача 3. «Сортировка диагоналей в матрице»\n",
    "Дан массив неотрицательных целых чисел nums. Расположите их в таком порядке, чтобы вместе они образовали максимально возможное число."
   ]
  },
  {
   "cell_type": "code",
   "execution_count": 5,
   "id": "artistic-share",
   "metadata": {},
   "outputs": [
    {
     "name": "stdout",
     "output_type": "stream",
     "text": [
      "[1, 1, 1, 1]\n",
      "[1, 2, 2, 2]\n",
      "[1, 2, 3, 3]\n"
     ]
    }
   ],
   "source": [
    "mat = [[3, 3, 1, 1], [2, 2, 1, 2], [1, 1, 1, 2]]\n",
    "\n",
    "def Sort(mat):\n",
    "    for i in range(len(mat)):\n",
    "        arr = []\n",
    "        for j in range(len(mat)):\n",
    "            if i + j < len(mat):\n",
    "                arr.append(mat[i + j][0 + j])\n",
    "        arr.sort()\n",
    "        for j in range(len(mat)):\n",
    "            if i + j < len(mat):\n",
    "                mat[i + j][0 + j] = arr[j]\n",
    "    for i in range(1, len(mat[0])):\n",
    "        arr = []\n",
    "        for j in range(len(mat[0])):\n",
    "            if i + j < len(mat[0]):\n",
    "                arr.append(mat[0 + j][i + j])\n",
    "        arr.sort()\n",
    "        for j in range(len(mat[0])):\n",
    "            if i + j < len(mat[0]):\n",
    "                mat[0 + j][i + j] = arr[j]\n",
    "\n",
    "    for i in range(len(mat)):\n",
    "        print(mat[i])\n",
    "Sort(mat)"
   ]
  },
  {
   "cell_type": "markdown",
   "id": "boring-corner",
   "metadata": {},
   "source": [
    "## Задача 4. «Объединение отрезков»\n",
    "Дан массив отрезков intervals, в котором intervals[i] = [starti , endi ], некоторые отрезки могут пересекаться. Напишите функцию, которая объединяет все пересекающиеся отрезки в один и возвращает новый массив непересекающихся отрезков."
   ]
  },
  {
   "cell_type": "code",
   "execution_count": 6,
   "id": "varied-picking",
   "metadata": {},
   "outputs": [
    {
     "name": "stdout",
     "output_type": "stream",
     "text": [
      "[[1, 6], [8, 10], [15, 18]]\n"
     ]
    }
   ],
   "source": [
    "intervals = [[1,3],[2,6],[8,10],[15,18]]\n",
    "def unity(p):\n",
    "    for i in range(len(p)-1):\n",
    "        for j in range(i+1, len(p)):\n",
    "            if p[j][0] < p[i][0]:\n",
    "                p[j],p[i] = p[i],p[j] \n",
    "   # print(p)\n",
    "    for i in range(len(p)-2):\n",
    "        if p[i] == p[i+1]:\n",
    "            p.pop(i+1)\n",
    "   # print(p)\n",
    "    while True:\n",
    "        NotChanged = 0\n",
    "        if len(p) == 1:\n",
    "            NotChanged = 1\n",
    "        for i in range(len(p)-1):\n",
    "            if p[i][1] >= p[i+1][0]:\n",
    "                p[i+1][0] = p[i][0]\n",
    "                p[i+1][1] = p[i+1][1]\n",
    "                p.pop(i) #удаление\n",
    "                break\n",
    "            NotChanged = 1\n",
    "        if NotChanged:\n",
    "            break\n",
    "    return p\n",
    "print(unity(intervals))\n",
    "#print(len(unity(intervals)))"
   ]
  },
  {
   "cell_type": "markdown",
   "id": "artistic-bowling",
   "metadata": {},
   "source": [
    "## Задания на строки\n",
    "Даны две строки: s1 и s2 с одинаковым размером, проверьте, может ли некоторая перестановка строки s1 “победить” некоторую перестановку строки s2 или наоборот. Строка x может “победить” строку y (обе имеют размер n), если x[i]> = y [i] (в алфавитном порядке) для всех i от 0 до n-1."
   ]
  },
  {
   "cell_type": "code",
   "execution_count": 7,
   "id": "beginning-newcastle",
   "metadata": {},
   "outputs": [
    {
     "name": "stdout",
     "output_type": "stream",
     "text": [
      "true\n"
     ]
    }
   ],
   "source": [
    "s1 = \"abc\"\n",
    "s2 = \"xya\"\n",
    "def permutation(lst):\n",
    "    res = []\n",
    "    _permutation(lst, 0, res)\n",
    "    return res\n",
    "\n",
    "def _permutation(lst, i, res):\n",
    "    if i == len(lst) - 1:\n",
    "        elem = ''\n",
    "        for a in lst:\n",
    "            elem += str(a)\n",
    "        if elem not in res:\n",
    "            res.append(elem)\n",
    "    else:\n",
    "        for j in range(i, len(lst)):\n",
    "            swap(lst, i, j)\n",
    "            _permutation(lst, i + 1, res)\n",
    "            swap(lst, i, j)\n",
    "\n",
    "def swap(lst, i, j):\n",
    "    k = lst[i]\n",
    "    lst[i] = lst[j]\n",
    "    lst[j] = k\n",
    "\n",
    "\n",
    "if len(s1) == len(s2):\n",
    "    list_s1 = list(s1) \n",
    "    list_s2 = list(s2)\n",
    "    perms_s1 = permutation(list_s1) # перестановка\n",
    "    perms_s2 = permutation(list_s2)\n",
    "    res_s1 = [] # ресурс\n",
    "    res_s2 = []\n",
    "    for i in perms_s1:\n",
    "        for j in perms_s2:\n",
    "            c = True #check\n",
    "            for k in range(len(s1)):\n",
    "                if ord(i[k]) < ord(j[k]): # возвращает число из таблицы Unicode\n",
    "                    c = False\n",
    "            if c and i not in res_s1:\n",
    "                res_s1.append(i)\n",
    "    for i in perms_s2:\n",
    "        for j in perms_s1:\n",
    "            c = True\n",
    "            for k in range(len(s1)):\n",
    "                if ord(i[k]) < ord(j[k]):\n",
    "                    c = False\n",
    "            if c and i not in res_s2:\n",
    "                res_s2.append(i)\n",
    "    if len(res_s1) > 0 or len(res_s2) > 0:\n",
    "        print(\"true\")\n",
    "    else:\n",
    "        print(\"false\")\n",
    "else:\n",
    "    print(\"Длины строк не совпадают\")"
   ]
  },
  {
   "cell_type": "markdown",
   "id": "operational-scheduling",
   "metadata": {},
   "source": [
    "Дана строка s, вернуть самую длинную полиндромную подстроку в s."
   ]
  },
  {
   "cell_type": "code",
   "execution_count": 8,
   "id": "moving-lawyer",
   "metadata": {},
   "outputs": [
    {
     "name": "stdout",
     "output_type": "stream",
     "text": [
      "['bab']\n"
     ]
    }
   ],
   "source": [
    "def reversed(str):  # \"переворачивание\" строки\n",
    "    return str[::-1]\n",
    "\n",
    "string = \"babs\"\n",
    "res = ['']\n",
    "for i in range(len(string)-2):\n",
    "    for j in range(i+2, len(string)+1):\n",
    "        if string[i:j] == reversed(string[i:j]):\n",
    "            if len(string[i:j]) > len(res[0]):\n",
    "                res = [string[i:j]]\n",
    "            elif len(string[i:j]) == len(res[0]):\n",
    "                res.append(string[i:j])\n",
    "if res[0] == '':\n",
    "    print(\"Полиндрома нет\")\n",
    "else:\n",
    "    print(res)"
   ]
  },
  {
   "cell_type": "markdown",
   "id": "certain-attendance",
   "metadata": {},
   "source": [
    "Вернуть количество отдельных непустых подстрок текста, которые могут быть записаны как конкатенация некоторой строки с самой собой (т.е. она может быть записана, как a + a, где a - некоторая строка)."
   ]
  },
  {
   "cell_type": "code",
   "execution_count": 9,
   "id": "crucial-tobacco",
   "metadata": {},
   "outputs": [
    {
     "name": "stdout",
     "output_type": "stream",
     "text": [
      "['abcabc', 'bcabca', 'cabcab']\n"
     ]
    }
   ],
   "source": [
    "string = \"abcabcabc\"\n",
    "res = ['']\n",
    "for i in range(len(string)-2):\n",
    "    for j in range(i+2, len(string)+1):\n",
    "        if (j - i) % 2 == 0:\n",
    "            center = (i + j) // 2\n",
    "            if string[i:center] == string[center:j] and string[i:j] not in res:\n",
    "                if len(string[i:j]) > len(res[0]):\n",
    "                    res = [string[i:j]]\n",
    "                elif len(string[i:j]) == len(res[0]):\n",
    "                    res.append(string[i:j])\n",
    "if res[0] == '':\n",
    "    print(\"Совпадений нет\")\n",
    "else:\n",
    "    print(res)"
   ]
  },
  {
   "cell_type": "markdown",
   "id": "pleasant-point",
   "metadata": {},
   "source": [
    "## Задача «Стопки монет»\n",
    "На столе стоят 3n стопок монет. Вы и ваши друзья Алиса и Боб забираете стопки монет по\n",
    "следующему алгоритму:\n",
    "1. Вы выбираете 3 стопки монет из оставшихся на столе.\n",
    "2. Алиса забирает себе стопку с максимальным количеством монет.\n",
    "3. Вы забираете одну из двух оставшихся стопок.\n",
    "4. Боб забирает последнюю стопку.\n",
    "5. Если еще остались стопки, то действия повторяются с первого шага.\n",
    "\n",
    "Дан массив целых положительных чисел piles. Напишите функцию, возвращающую максимальное число монет, которое вы можете получить.\n"
   ]
  },
  {
   "cell_type": "code",
   "execution_count": 10,
   "id": "tracked-rebound",
   "metadata": {},
   "outputs": [
    {
     "name": "stdout",
     "output_type": "stream",
     "text": [
      "18\n"
     ]
    }
   ],
   "source": [
    "piles =  [9,8,7,6,5,1,2,3,4]\n",
    "\n",
    "def money(mas):\n",
    "    if len(mas) % 3 != 0:\n",
    "        return 'false'\n",
    "    mas.sort()\n",
    "    n = len(mas) - 2\n",
    "    sum = 0\n",
    "    for i in range(int(len(mas)/3)):\n",
    "        sum += mas[n]\n",
    "        n -= 2\n",
    "    return sum\n",
    "\n",
    "print(money(piles))    "
   ]
  },
  {
   "cell_type": "markdown",
   "id": "romance-mattress",
   "metadata": {},
   "source": [
    "## Задача «Шарики и стрелы»\n",
    "Некоторые сферические шарики распределены по двухмерному пространству. Для каждого\n",
    "шарика даны x-координаты начала и конца его горизонтального диаметра. Так как пространство\n",
    "двумерно, то y-координаты не имеют значения в данной задаче. Координата xstart всегда меньше\n",
    "xend.\n",
    "\n",
    "Стрелу можно выстрелить строго вертикально (вдоль y­оси) из разных точек x­оси. Шарик\n",
    "с координатами xstart и xend уничтожается стрелой, если она была выпущена из такой позиции\n",
    "x, что xstart ⩽ x ⩽ xend. Когда стрела выпущена, она летит в пространстве бесконечное время\n",
    "(уничтожая все шарики на пути).\n",
    "\n",
    "Дан массив points, где points[i] = [xstart, xend]. Напишите функцию, возвращающую минимальное количество стрел, которые нужно выпустить, чтобы уничтожить все шарики."
   ]
  },
  {
   "cell_type": "code",
   "execution_count": 11,
   "id": "possible-reach",
   "metadata": {},
   "outputs": [
    {
     "name": "stdout",
     "output_type": "stream",
     "text": [
      "[[2, 6], [10, 12]]\n",
      "2\n"
     ]
    }
   ],
   "source": [
    "points = [[10,16],[2,8],[1,6],[7,12]]\n",
    "def Balloons(p):\n",
    "    for i in range(len(p)-1):\n",
    "        for j in range(i+1, len(p)):\n",
    "            if p[j][0] < p[i][0]:\n",
    "                p[j],p[i] = p[i],p[j] \n",
    "   # print(p)\n",
    "    for i in range(len(p)-2):\n",
    "        if p[i] == p[i+1]:\n",
    "            p.pop(i+1)\n",
    "   # print(p)\n",
    "    while True:\n",
    "        NotChanged = 0\n",
    "        if len(p) == 1:\n",
    "            NotChanged = 1\n",
    "        for i in range(len(p)-1):\n",
    "            if p[i][1] >= p[i+1][0]:\n",
    "                p[i+1][0] = p[i+1][0]\n",
    "                p[i+1][1] = p[i][1]\n",
    "                p.pop(i) #удаление\n",
    "                break\n",
    "            NotChanged = 1\n",
    "        if NotChanged:\n",
    "            break\n",
    "    return p\n",
    "print(Balloons(points))\n",
    "print(len(Balloons(points)))"
   ]
  },
  {
   "cell_type": "code",
   "execution_count": null,
   "id": "still-wales",
   "metadata": {},
   "outputs": [],
   "source": []
  },
  {
   "cell_type": "code",
   "execution_count": null,
   "id": "tamil-exploration",
   "metadata": {},
   "outputs": [],
   "source": []
  },
  {
   "cell_type": "code",
   "execution_count": null,
   "id": "quick-delivery",
   "metadata": {},
   "outputs": [],
   "source": []
  }
 ],
 "metadata": {
  "kernelspec": {
   "display_name": "Python 3",
   "language": "python",
   "name": "python3"
  },
  "language_info": {
   "codemirror_mode": {
    "name": "ipython",
    "version": 3
   },
   "file_extension": ".py",
   "mimetype": "text/x-python",
   "name": "python",
   "nbconvert_exporter": "python",
   "pygments_lexer": "ipython3",
   "version": "3.9.1"
  }
 },
 "nbformat": 4,
 "nbformat_minor": 5
}
