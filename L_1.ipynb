{
 "cells": [
  {
   "cell_type": "markdown",
   "id": "juvenile-insulin",
   "metadata": {},
   "source": [
    "### Генерация случайного массива"
   ]
  },
  {
   "cell_type": "code",
   "execution_count": 254,
   "id": "returning-circle",
   "metadata": {},
   "outputs": [
    {
     "name": "stdout",
     "output_type": "stream",
     "text": [
      "[972, 85, -145, 541, -387, 274, 203, 225, -435, 881]\n",
      "[847, 525, 429, -812, 552, 443, -176, 274, -59, -392]\n",
      "[-819, -203, 848, 459, 929, 583, 531, -573, 538, 582]\n",
      "[-331, 880, 545, 624, -386, 860, -462, 822, -604, -210]\n",
      "[791, 50, 422, 985, 632, -216, -234, -532, -892, 745]\n",
      "[-725, -872, 917, -766, -834, -798, 846, 228, -647, 569]\n",
      "[-286, -309, 552, -333, -646, -394, -113, -926, -699, 660]\n",
      "[101, 314, 673, 530, 746, -646, 9, -124, -279, -863]\n",
      "[9, 746, -680, -711, -872, -227, 529, -88, 499, -271]\n",
      "[-968, -589, 343, 318, -11, 939, 562, 255, 796, -393]\n"
     ]
    }
   ],
   "source": [
    "import time\n",
    "import random\n",
    "\n",
    "n = 10\n",
    "\n",
    "def generate_matrix(): \n",
    "    return [[random.randrange(-1000, 1000) for y in range(n)] for x in range(n)]\n",
    "\n",
    "matrix = generate_matrix()\n",
    "for i in range(n):\n",
    "    print(matrix[i])"
   ]
  },
  {
   "cell_type": "markdown",
   "id": "political-obligation",
   "metadata": {},
   "source": [
    "### Сортировка по умолчанию"
   ]
  },
  {
   "cell_type": "code",
   "execution_count": 265,
   "id": "honey-talent",
   "metadata": {},
   "outputs": [
    {
     "name": "stdout",
     "output_type": "stream",
     "text": [
      "[-435, -387, -145, 85, 203, 225, 274, 541, 881, 972]\n",
      "[-812, -392, -176, -59, 274, 429, 443, 525, 552, 847]\n",
      "[-819, -573, -203, 459, 531, 538, 582, 583, 848, 929]\n",
      "[-604, -462, -386, -331, -210, 545, 624, 822, 860, 880]\n",
      "[-892, -532, -234, -216, 50, 422, 632, 745, 791, 985]\n",
      "[-872, -834, -798, -766, -725, -647, 228, 569, 846, 917]\n",
      "[-926, -699, -646, -394, -333, -309, -286, -113, 552, 660]\n",
      "[-863, -646, -279, -124, 9, 101, 314, 530, 673, 746]\n",
      "[-872, -711, -680, -271, -227, -88, 9, 499, 529, 746]\n",
      "[-968, -589, -393, -11, 255, 318, 343, 562, 796, 939]\n"
     ]
    }
   ],
   "source": [
    "def default_sort(array): \n",
    "    for i in range(n):\n",
    "        array[i].sort()\n",
    "    return array\n",
    "matrix2 = default_sort(matrix)\n",
    "for i in range(n):\n",
    "    print(matrix2[i])"
   ]
  },
  {
   "cell_type": "markdown",
   "id": "starting-cincinnati",
   "metadata": {},
   "source": [
    "### Сортировка выбором"
   ]
  },
  {
   "cell_type": "code",
   "execution_count": 256,
   "id": "bigger-jerusalem",
   "metadata": {},
   "outputs": [
    {
     "name": "stdout",
     "output_type": "stream",
     "text": [
      "[-435, -387, -145, 85, 203, 225, 274, 541, 881, 972]\n",
      "[-812, -392, -176, -59, 274, 429, 443, 525, 552, 847]\n",
      "[-819, -573, -203, 459, 531, 538, 582, 583, 848, 929]\n",
      "[-604, -462, -386, -331, -210, 545, 624, 822, 860, 880]\n",
      "[-892, -532, -234, -216, 50, 422, 632, 745, 791, 985]\n",
      "[-872, -834, -798, -766, -725, -647, 228, 569, 846, 917]\n",
      "[-926, -699, -646, -394, -333, -309, -286, -113, 552, 660]\n",
      "[-863, -646, -279, -124, 9, 101, 314, 530, 673, 746]\n",
      "[-872, -711, -680, -271, -227, -88, 9, 499, 529, 746]\n",
      "[-968, -589, -393, -11, 255, 318, 343, 562, 796, 939]\n"
     ]
    }
   ],
   "source": [
    "def RSelection(matrix): \n",
    "    for i in range (n-1):\n",
    "        selection(matrix[i])\n",
    "    return matrix\n",
    "def selection(array): \n",
    "    for el in range(len(array) - 1):\n",
    "        small = el\n",
    "        for j in range(el + 1, len(array)):\n",
    "            if array[j] < array[small]:\n",
    "                small = j\n",
    "        array[el], array[small] = array[small], array[el]\n",
    "    return array\n",
    "\n",
    "matrix3 = RSelection(matrix)\n",
    "for i in range(n):\n",
    "    print(matrix3[i])\n",
    "    "
   ]
  },
  {
   "cell_type": "markdown",
   "id": "significant-ordinance",
   "metadata": {},
   "source": [
    "### Сортировка вставкой"
   ]
  },
  {
   "cell_type": "code",
   "execution_count": 257,
   "id": "ongoing-juice",
   "metadata": {},
   "outputs": [
    {
     "name": "stdout",
     "output_type": "stream",
     "text": [
      "[-435, -387, -145, 85, 203, 225, 274, 541, 881, 972]\n",
      "[-812, -392, -176, -59, 274, 429, 443, 525, 552, 847]\n",
      "[-819, -573, -203, 459, 531, 538, 582, 583, 848, 929]\n",
      "[-604, -462, -386, -331, -210, 545, 624, 822, 860, 880]\n",
      "[-892, -532, -234, -216, 50, 422, 632, 745, 791, 985]\n",
      "[-872, -834, -798, -766, -725, -647, 228, 569, 846, 917]\n",
      "[-926, -699, -646, -394, -333, -309, -286, -113, 552, 660]\n",
      "[-863, -646, -279, -124, 9, 101, 314, 530, 673, 746]\n",
      "[-872, -711, -680, -271, -227, -88, 9, 499, 529, 746]\n",
      "[-968, -589, -393, -11, 255, 318, 343, 562, 796, 939]\n"
     ]
    }
   ],
   "source": [
    "def RInsertion(matrix): \n",
    "    for i in range (n-1):\n",
    "        insertion(matrix[i])\n",
    "    return matrix\n",
    "def insertion(array): \n",
    "    for i in range(1, len(array)):\n",
    "        temp = array[i]\n",
    "        j = i - 1\n",
    "        while j >= 0 and temp < array[j]:\n",
    "            array[j + 1] = array[j]\n",
    "            j = j - 1\n",
    "        array[j + 1] = temp\n",
    "    return array\n",
    "\n",
    "matrix4 = RInsertion(matrix)\n",
    "for i in range(n):\n",
    "    print(matrix4[i])"
   ]
  },
  {
   "cell_type": "markdown",
   "id": "cordless-duration",
   "metadata": {},
   "source": [
    "### Сортировка обменом (пузырьком)"
   ]
  },
  {
   "cell_type": "code",
   "execution_count": 258,
   "id": "smooth-anniversary",
   "metadata": {},
   "outputs": [
    {
     "name": "stdout",
     "output_type": "stream",
     "text": [
      "[-435, -387, -145, 85, 203, 225, 274, 541, 881, 972]\n",
      "[-812, -392, -176, -59, 274, 429, 443, 525, 552, 847]\n",
      "[-819, -573, -203, 459, 531, 538, 582, 583, 848, 929]\n",
      "[-604, -462, -386, -331, -210, 545, 624, 822, 860, 880]\n",
      "[-892, -532, -234, -216, 50, 422, 632, 745, 791, 985]\n",
      "[-872, -834, -798, -766, -725, -647, 228, 569, 846, 917]\n",
      "[-926, -699, -646, -394, -333, -309, -286, -113, 552, 660]\n",
      "[-863, -646, -279, -124, 9, 101, 314, 530, 673, 746]\n",
      "[-872, -711, -680, -271, -227, -88, 9, 499, 529, 746]\n",
      "[-968, -589, -393, -11, 255, 318, 343, 562, 796, 939]\n"
     ]
    }
   ],
   "source": [
    "def RBubble(matrix): \n",
    "    for i in range (n-1):\n",
    "        bubble(matrix[i])\n",
    "    return matrix\n",
    "def bubble(array): \n",
    "    for i in range(len(array) - 1):\n",
    "        for j in range(len(array) - i - 1):\n",
    "            if array[j] > array[j + 1]:\n",
    "                array[j], array[j + 1] = array[j + 1], array[j]\n",
    "    return array\n",
    "\n",
    "matrix5 = RBubble(matrix)\n",
    "for i in range(n):\n",
    "    print(matrix5[i])"
   ]
  },
  {
   "cell_type": "markdown",
   "id": "concrete-dutch",
   "metadata": {},
   "source": [
    "### Сортировка Шелла"
   ]
  },
  {
   "cell_type": "code",
   "execution_count": 259,
   "id": "spread-montana",
   "metadata": {},
   "outputs": [
    {
     "name": "stdout",
     "output_type": "stream",
     "text": [
      "[-435, -387, -145, 85, 203, 225, 274, 541, 881, 972]\n",
      "[-812, -392, -176, -59, 274, 429, 443, 525, 552, 847]\n",
      "[-819, -573, -203, 459, 531, 538, 582, 583, 848, 929]\n",
      "[-604, -462, -386, -331, -210, 545, 624, 822, 860, 880]\n",
      "[-892, -532, -234, -216, 50, 422, 632, 745, 791, 985]\n",
      "[-872, -834, -798, -766, -725, -647, 228, 569, 846, 917]\n",
      "[-926, -699, -646, -394, -333, -309, -286, -113, 552, 660]\n",
      "[-863, -646, -279, -124, 9, 101, 314, 530, 673, 746]\n",
      "[-872, -711, -680, -271, -227, -88, 9, 499, 529, 746]\n",
      "[-968, -589, -393, -11, 255, 318, 343, 562, 796, 939]\n"
     ]
    }
   ],
   "source": [
    "def RShell(matrix): \n",
    "    for i in range (n):\n",
    "        shell(matrix[i])\n",
    "    return matrix\n",
    "def shell(array):\n",
    "    d = len(array) // 2\n",
    "    while d > 0:\n",
    "        for i in range(d, len(array)):\n",
    "            temp = array[i]\n",
    "            j = i\n",
    "            while j >= d and array[j - d] > temp:\n",
    "                array[j] = array[j - d]\n",
    "                j -= d\n",
    "            array[j] = temp\n",
    "        d //= 2\n",
    "    return array\n",
    "\n",
    "matrix6 = RShell(matrix)\n",
    "for i in range(n):\n",
    "    print(matrix6[i])"
   ]
  },
  {
   "cell_type": "markdown",
   "id": "connected-ceiling",
   "metadata": {},
   "source": [
    "### Cортировка Хаора (Быстрая)"
   ]
  },
  {
   "cell_type": "code",
   "execution_count": 273,
   "id": "gross-release",
   "metadata": {},
   "outputs": [
    {
     "name": "stdout",
     "output_type": "stream",
     "text": [
      "[-435, -387, -145, 85, 203, 225, 274, 541, 881, 972]\n",
      "[-812, -392, -176, -59, 274, 429, 443, 525, 552, 847]\n",
      "[-819, -573, -203, 459, 531, 538, 582, 583, 848, 929]\n",
      "[-604, -462, -386, -331, -210, 545, 624, 822, 860, 880]\n",
      "[-892, -532, -234, -216, 50, 422, 632, 745, 791, 985]\n",
      "[-872, -834, -798, -766, -725, -647, 228, 569, 846, 917]\n",
      "[-926, -699, -646, -394, -333, -309, -286, -113, 552, 660]\n",
      "[-863, -646, -279, -124, 9, 101, 314, 530, 673, 746]\n",
      "[-872, -711, -680, -271, -227, -88, 9, 499, 529, 746]\n",
      "[-968, -589, -393, -11, 255, 318, 343, 562, 796, 939]\n"
     ]
    }
   ],
   "source": [
    "def RQsort(matrix): \n",
    "    for i in range (n):\n",
    "        qsort(matrix[i],0,len(matrix[i]))\n",
    "    return matrix\n",
    "def qsort (array, b, e):\n",
    "    l = b\n",
    "    r = e-1\n",
    "    piv = array[(l + r) // 2] \n",
    "    while l <= r:\n",
    "        while array[l] < piv:\n",
    "            l+=1\n",
    "        while array[r] > piv:\n",
    "            r-=1\n",
    "        if l <= r:\n",
    "            array[l+1], array[r-1] = array[r-1], array[l+1]\n",
    "\n",
    "    if b < r:\n",
    "        qsort (array,b, r);\n",
    "    if e > l:\n",
    "        qsort (array,l, e);\n",
    "    return array\n",
    "\n",
    "matrix7 = RShell(matrix)\n",
    "for i in range(n):\n",
    "    print(matrix7[i])"
   ]
  },
  {
   "cell_type": "markdown",
   "id": "enormous-strand",
   "metadata": {},
   "source": [
    "### Турнирная сортировка"
   ]
  },
  {
   "cell_type": "code",
   "execution_count": 261,
   "id": "liable-pointer",
   "metadata": {},
   "outputs": [
    {
     "name": "stdout",
     "output_type": "stream",
     "text": [
      "[-435, -387, -145, 85, 203, 225, 274, 541, 881, 972]\n",
      "[-812, -392, -176, -59, 274, 429, 443, 525, 552, 847]\n",
      "[-819, -573, -203, 459, 531, 538, 582, 583, 848, 929]\n",
      "[-604, -462, -386, -331, -210, 545, 624, 822, 860, 880]\n",
      "[-892, -532, -234, -216, 50, 422, 632, 745, 791, 985]\n",
      "[-872, -834, -798, -766, -725, -647, 228, 569, 846, 917]\n",
      "[-926, -699, -646, -394, -333, -309, -286, -113, 552, 660]\n",
      "[-863, -646, -279, -124, 9, 101, 314, 530, 673, 746]\n",
      "[-872, -711, -680, -271, -227, -88, 9, 499, 529, 746]\n",
      "[-968, -589, -393, -11, 255, 318, 343, 562, 796, 939]\n"
     ]
    }
   ],
   "source": [
    "def RTournament(matrix): \n",
    "    for i in range (n):\n",
    "        tournament(matrix[i])\n",
    "    return matrix\n",
    "def tournament(array):\n",
    "    for i in range(len(array)):\n",
    "        a = 1\n",
    "        while a < len(array):\n",
    "            k = 0\n",
    "            while k*a*2 < len(array):\n",
    "                if k*a*2+a < len(array):\n",
    "                    if array[k*a*2 + a] < array[k*a*2]:\n",
    "                        array[k*a*2 + a], array[k*a*2] = array[k*a*2], array[k*a*2+a]\n",
    "                k+=1\n",
    "            a*=2\n",
    "    return array\n",
    "matrix8 = RTournament(matrix)\n",
    "for i in range(n):\n",
    "    print(matrix8[i])"
   ]
  },
  {
   "cell_type": "markdown",
   "id": "raising-whale",
   "metadata": {},
   "source": [
    "### Пирамедальная сортировка"
   ]
  },
  {
   "cell_type": "code",
   "execution_count": 262,
   "id": "jewish-dealer",
   "metadata": {},
   "outputs": [
    {
     "name": "stdout",
     "output_type": "stream",
     "text": [
      "[-435, -387, -145, 85, 203, 225, 274, 541, 881, 972]\n",
      "[-812, -392, -176, -59, 274, 429, 443, 525, 552, 847]\n",
      "[-819, -573, -203, 459, 531, 538, 582, 583, 848, 929]\n",
      "[-604, -462, -386, -331, -210, 545, 624, 822, 860, 880]\n",
      "[-892, -532, -234, -216, 50, 422, 632, 745, 791, 985]\n",
      "[-872, -834, -798, -766, -725, -647, 228, 569, 846, 917]\n",
      "[-926, -699, -646, -394, -333, -309, -286, -113, 552, 660]\n",
      "[-863, -646, -279, -124, 9, 101, 314, 530, 673, 746]\n",
      "[-872, -711, -680, -271, -227, -88, 9, 499, 529, 746]\n",
      "[-968, -589, -393, -11, 255, 318, 343, 562, 796, 939]\n"
     ]
    }
   ],
   "source": [
    "def RHeap(matrix): \n",
    "    for i in range (n):\n",
    "        heap(matrix[i])\n",
    "    return matrix\n",
    "\n",
    "def heap(array):  \n",
    "    for i in range(len(array), -1, -1):\n",
    "        heapify(array, len(array), i)\n",
    "    for i in range(len(array) - 1, 0, -1):\n",
    "        array[i], array[0] = array[0], array[i]\n",
    "        heapify(array, i, 0)\n",
    "    return array\n",
    "\n",
    "def heapify(array, n, k):  \n",
    "    largest = k\n",
    "    left = 2 * k + 1\n",
    "    right = 2 * k + 2\n",
    "    if left < n and array[largest] < array[left]:\n",
    "        largest = left\n",
    "    if right < n and array[largest] < array[right]:\n",
    "        largest = right\n",
    "    if largest != k:\n",
    "        array[k], array[largest] = array[largest], array[k]\n",
    "        heapify(array, n, largest)\n",
    "    return array\n",
    "\n",
    "matrix9 = matrix\n",
    "matrix9 = RHeap(matrix)\n",
    "for i in range(n):\n",
    "    print(matrix9[i])"
   ]
  },
  {
   "cell_type": "markdown",
   "id": "metric-cotton",
   "metadata": {},
   "source": [
    "### Время работы функций "
   ]
  },
  {
   "cell_type": "code",
   "execution_count": null,
   "id": "right-split",
   "metadata": {},
   "outputs": [
    {
     "name": "stdout",
     "output_type": "stream",
     "text": [
      "Сортировка по умолчанию   1.8200000340584666e-05\n",
      "Сортировка выбором        0.00028310000197961926\n",
      "Сортировка вставкой       9.130000398727134e-05\n",
      "Сортировка обменом        0.0002642999970703386\n",
      "Сортировка Шелла          0.00021830000332556665\n",
      "Пирамидальня Сортировка   0.000949200002651196\n"
     ]
    }
   ],
   "source": [
    "import timeit\n",
    "\n",
    "# Сортировка массива и вывод времени\n",
    "print(\"Сортировка по умолчанию   \" + str(timeit.timeit(\"default_sort(matrix)\", number=1, globals=globals())))\n",
    "print(\"Сортировка выбором        \" + str(timeit.timeit(\"RSelection(matrix)\", number=1, globals=globals())))\n",
    "print(\"Сортировка вставкой       \" + str(timeit.timeit(\"RInsertion(matrix)\", number=1, globals=globals())))\n",
    "print(\"Сортировка обменом        \" + str(timeit.timeit(\"RBubble(matrix)\", number=1, globals=globals())))\n",
    "print(\"Сортировка Шелла          \" + str(timeit.timeit(\"RShell(matrix)\", number=1, globals=globals())))\n",
    "print(\"Пирамидальня Сортировка   \" + str(timeit.timeit(\"RHeap(matrix)\", number=1, globals=globals())))\n",
    "print(\"Быстрая сортировка        \" + str(timeit.timeit(\"RQsort(matrix)\", number=1, globals=globals())))\n",
    "print(\"Турнирная сортировка      \" + str(timeit.timeit(\"RTournament(matrix)\", number=1, globals=globals())))"
   ]
  },
  {
   "cell_type": "code",
   "execution_count": null,
   "id": "graphic-success",
   "metadata": {},
   "outputs": [],
   "source": []
  },
  {
   "cell_type": "code",
   "execution_count": null,
   "id": "approximate-zoning",
   "metadata": {},
   "outputs": [],
   "source": []
  }
 ],
 "metadata": {
  "kernelspec": {
   "display_name": "Python 3",
   "language": "python",
   "name": "python3"
  },
  "language_info": {
   "codemirror_mode": {
    "name": "ipython",
    "version": 3
   },
   "file_extension": ".py",
   "mimetype": "text/x-python",
   "name": "python",
   "nbconvert_exporter": "python",
   "pygments_lexer": "ipython3",
   "version": "3.9.1"
  }
 },
 "nbformat": 4,
 "nbformat_minor": 5
}
