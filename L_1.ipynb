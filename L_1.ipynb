{
 "cells": [
  {
   "cell_type": "markdown",
   "id": "fabulous-fifth",
   "metadata": {},
   "source": [
    "## Лабораторна работа №1"
   ]
  },
  {
   "cell_type": "markdown",
   "id": "neural-sixth",
   "metadata": {},
   "source": [
    "Выполнил: студент группы БВТ1901 Смирнов Д.А.\n",
    "                                                      Руководитель:\n",
    "                                                      Мелехин А. \n"
   ]
  },
  {
   "cell_type": "markdown",
   "id": "standard-huntington",
   "metadata": {},
   "source": [
    "**Задание:**\n",
    "Реализовать методы сортировки строк числовой матрицы в соответствии с заданием. Оценить время работы каждого алгоритма сортировки и сравнить его со временем стандартной функции сортировки. Испытания проводить на сгенерированных матрицах. \n"
   ]
  },
  {
   "cell_type": "markdown",
   "id": "juvenile-insulin",
   "metadata": {},
   "source": [
    "### Генерация случайного массива"
   ]
  },
  {
   "cell_type": "code",
   "execution_count": 1,
   "id": "returning-circle",
   "metadata": {},
   "outputs": [
    {
     "name": "stdout",
     "output_type": "stream",
     "text": [
      "[-745, -287, -251, -209, -687, -705, -744, -890, -322, -981]\n",
      "[179, -517, 706, -448, 849, 466, -634, 582, -848, -389]\n",
      "[-585, 974, 359, 364, 777, 287, 479, -544, -281, 821]\n",
      "[284, 262, 679, -679, 606, -595, 182, 983, -643, -517]\n",
      "[451, -43, 645, 165, 324, -663, -344, -86, 489, 480]\n",
      "[213, -73, -162, 237, -681, 621, -612, -915, -363, 342]\n",
      "[-117, 518, 560, -159, 515, -360, 674, 523, -406, 816]\n",
      "[-12, 348, -14, -936, 267, 588, 245, 872, -719, -976]\n",
      "[-540, 91, -863, -578, -671, -630, -750, 373, -254, -913]\n",
      "[-763, -264, 342, 312, -324, -99, 621, 569, -702, -666]\n"
     ]
    }
   ],
   "source": [
    "import time\n",
    "import random\n",
    "\n",
    "n = 10\n",
    "\n",
    "def generate_matrix(): \n",
    "    return [[random.randrange(-1000, 1000) for y in range(n)] for x in range(n)]\n",
    "\n",
    "matrix = generate_matrix()\n",
    "for i in range(n):\n",
    "    print(matrix[i])"
   ]
  },
  {
   "cell_type": "markdown",
   "id": "political-obligation",
   "metadata": {},
   "source": [
    "### Сортировка по умолчанию"
   ]
  },
  {
   "cell_type": "code",
   "execution_count": 2,
   "id": "honey-talent",
   "metadata": {},
   "outputs": [
    {
     "name": "stdout",
     "output_type": "stream",
     "text": [
      "[-981, -890, -745, -744, -705, -687, -322, -287, -251, -209]\n",
      "[-848, -634, -517, -448, -389, 179, 466, 582, 706, 849]\n",
      "[-585, -544, -281, 287, 359, 364, 479, 777, 821, 974]\n",
      "[-679, -643, -595, -517, 182, 262, 284, 606, 679, 983]\n",
      "[-663, -344, -86, -43, 165, 324, 451, 480, 489, 645]\n",
      "[-915, -681, -612, -363, -162, -73, 213, 237, 342, 621]\n",
      "[-406, -360, -159, -117, 515, 518, 523, 560, 674, 816]\n",
      "[-976, -936, -719, -14, -12, 245, 267, 348, 588, 872]\n",
      "[-913, -863, -750, -671, -630, -578, -540, -254, 91, 373]\n",
      "[-763, -702, -666, -324, -264, -99, 312, 342, 569, 621]\n"
     ]
    }
   ],
   "source": [
    "def default_sort(array): \n",
    "    for i in range(n):\n",
    "        array[i].sort()\n",
    "    return array\n",
    "matrix2 = default_sort(matrix)\n",
    "for i in range(n):\n",
    "    print(matrix2[i])"
   ]
  },
  {
   "cell_type": "markdown",
   "id": "starting-cincinnati",
   "metadata": {},
   "source": [
    "### Сортировка выбором"
   ]
  },
  {
   "cell_type": "code",
   "execution_count": 3,
   "id": "bigger-jerusalem",
   "metadata": {},
   "outputs": [
    {
     "name": "stdout",
     "output_type": "stream",
     "text": [
      "[-981, -890, -745, -744, -705, -687, -322, -287, -251, -209]\n",
      "[-848, -634, -517, -448, -389, 179, 466, 582, 706, 849]\n",
      "[-585, -544, -281, 287, 359, 364, 479, 777, 821, 974]\n",
      "[-679, -643, -595, -517, 182, 262, 284, 606, 679, 983]\n",
      "[-663, -344, -86, -43, 165, 324, 451, 480, 489, 645]\n",
      "[-915, -681, -612, -363, -162, -73, 213, 237, 342, 621]\n",
      "[-406, -360, -159, -117, 515, 518, 523, 560, 674, 816]\n",
      "[-976, -936, -719, -14, -12, 245, 267, 348, 588, 872]\n",
      "[-913, -863, -750, -671, -630, -578, -540, -254, 91, 373]\n",
      "[-763, -702, -666, -324, -264, -99, 312, 342, 569, 621]\n"
     ]
    }
   ],
   "source": [
    "def RSelection(matrix): \n",
    "    for i in range (n-1):\n",
    "        selection(matrix[i])\n",
    "    return matrix\n",
    "def selection(array): \n",
    "    for el in range(len(array) - 1):\n",
    "        small = el\n",
    "        for j in range(el + 1, len(array)):\n",
    "            if array[j] < array[small]:\n",
    "                small = j\n",
    "        array[el], array[small] = array[small], array[el]\n",
    "    return array\n",
    "\n",
    "matrix3 = RSelection(matrix)\n",
    "for i in range(n):\n",
    "    print(matrix3[i])\n",
    "    "
   ]
  },
  {
   "cell_type": "markdown",
   "id": "significant-ordinance",
   "metadata": {},
   "source": [
    "### Сортировка вставкой"
   ]
  },
  {
   "cell_type": "code",
   "execution_count": 4,
   "id": "ongoing-juice",
   "metadata": {},
   "outputs": [
    {
     "name": "stdout",
     "output_type": "stream",
     "text": [
      "[-981, -890, -745, -744, -705, -687, -322, -287, -251, -209]\n",
      "[-848, -634, -517, -448, -389, 179, 466, 582, 706, 849]\n",
      "[-585, -544, -281, 287, 359, 364, 479, 777, 821, 974]\n",
      "[-679, -643, -595, -517, 182, 262, 284, 606, 679, 983]\n",
      "[-663, -344, -86, -43, 165, 324, 451, 480, 489, 645]\n",
      "[-915, -681, -612, -363, -162, -73, 213, 237, 342, 621]\n",
      "[-406, -360, -159, -117, 515, 518, 523, 560, 674, 816]\n",
      "[-976, -936, -719, -14, -12, 245, 267, 348, 588, 872]\n",
      "[-913, -863, -750, -671, -630, -578, -540, -254, 91, 373]\n",
      "[-763, -702, -666, -324, -264, -99, 312, 342, 569, 621]\n"
     ]
    }
   ],
   "source": [
    "def RInsertion(matrix): \n",
    "    for i in range (n-1):\n",
    "        insertion(matrix[i])\n",
    "    return matrix\n",
    "def insertion(array): \n",
    "    for i in range(1, len(array)):\n",
    "        temp = array[i]\n",
    "        j = i - 1\n",
    "        while j >= 0 and temp < array[j]:\n",
    "            array[j + 1] = array[j]\n",
    "            j = j - 1\n",
    "        array[j + 1] = temp\n",
    "    return array\n",
    "\n",
    "matrix4 = RInsertion(matrix)\n",
    "for i in range(n):\n",
    "    print(matrix4[i])"
   ]
  },
  {
   "cell_type": "markdown",
   "id": "cordless-duration",
   "metadata": {},
   "source": [
    "### Сортировка обменом (пузырьком)"
   ]
  },
  {
   "cell_type": "code",
   "execution_count": 5,
   "id": "smooth-anniversary",
   "metadata": {},
   "outputs": [
    {
     "name": "stdout",
     "output_type": "stream",
     "text": [
      "[-981, -890, -745, -744, -705, -687, -322, -287, -251, -209]\n",
      "[-848, -634, -517, -448, -389, 179, 466, 582, 706, 849]\n",
      "[-585, -544, -281, 287, 359, 364, 479, 777, 821, 974]\n",
      "[-679, -643, -595, -517, 182, 262, 284, 606, 679, 983]\n",
      "[-663, -344, -86, -43, 165, 324, 451, 480, 489, 645]\n",
      "[-915, -681, -612, -363, -162, -73, 213, 237, 342, 621]\n",
      "[-406, -360, -159, -117, 515, 518, 523, 560, 674, 816]\n",
      "[-976, -936, -719, -14, -12, 245, 267, 348, 588, 872]\n",
      "[-913, -863, -750, -671, -630, -578, -540, -254, 91, 373]\n",
      "[-763, -702, -666, -324, -264, -99, 312, 342, 569, 621]\n"
     ]
    }
   ],
   "source": [
    "def RBubble(matrix): \n",
    "    for i in range (n-1):\n",
    "        bubble(matrix[i])\n",
    "    return matrix\n",
    "def bubble(array): \n",
    "    for i in range(len(array) - 1):\n",
    "        for j in range(len(array) - i - 1):\n",
    "            if array[j] > array[j + 1]:\n",
    "                array[j], array[j + 1] = array[j + 1], array[j]\n",
    "    return array\n",
    "\n",
    "matrix5 = RBubble(matrix)\n",
    "for i in range(n):\n",
    "    print(matrix5[i])"
   ]
  },
  {
   "cell_type": "markdown",
   "id": "concrete-dutch",
   "metadata": {},
   "source": [
    "### Сортировка Шелла"
   ]
  },
  {
   "cell_type": "code",
   "execution_count": 6,
   "id": "spread-montana",
   "metadata": {},
   "outputs": [
    {
     "name": "stdout",
     "output_type": "stream",
     "text": [
      "[-981, -890, -745, -744, -705, -687, -322, -287, -251, -209]\n",
      "[-848, -634, -517, -448, -389, 179, 466, 582, 706, 849]\n",
      "[-585, -544, -281, 287, 359, 364, 479, 777, 821, 974]\n",
      "[-679, -643, -595, -517, 182, 262, 284, 606, 679, 983]\n",
      "[-663, -344, -86, -43, 165, 324, 451, 480, 489, 645]\n",
      "[-915, -681, -612, -363, -162, -73, 213, 237, 342, 621]\n",
      "[-406, -360, -159, -117, 515, 518, 523, 560, 674, 816]\n",
      "[-976, -936, -719, -14, -12, 245, 267, 348, 588, 872]\n",
      "[-913, -863, -750, -671, -630, -578, -540, -254, 91, 373]\n",
      "[-763, -702, -666, -324, -264, -99, 312, 342, 569, 621]\n"
     ]
    }
   ],
   "source": [
    "def RShell(matrix): \n",
    "    for i in range (n):\n",
    "        shell(matrix[i])\n",
    "    return matrix\n",
    "def shell(array):\n",
    "    d = len(array) // 2\n",
    "    while d > 0:\n",
    "        for i in range(d, len(array)):\n",
    "            temp = array[i]\n",
    "            j = i\n",
    "            while j >= d and array[j - d] > temp:\n",
    "                array[j] = array[j - d]\n",
    "                j -= d\n",
    "            array[j] = temp\n",
    "        d //= 2\n",
    "    return array\n",
    "\n",
    "matrix6 = RShell(matrix)\n",
    "for i in range(n):\n",
    "    print(matrix6[i])"
   ]
  },
  {
   "cell_type": "markdown",
   "id": "connected-ceiling",
   "metadata": {},
   "source": [
    "### Cортировка Хаора (Быстрая)"
   ]
  },
  {
   "cell_type": "code",
   "execution_count": null,
   "id": "gross-release",
   "metadata": {},
   "outputs": [],
   "source": []
  },
  {
   "cell_type": "code",
   "execution_count": 7,
   "id": "egyptian-wright",
   "metadata": {},
   "outputs": [
    {
     "name": "stdout",
     "output_type": "stream",
     "text": [
      "[-981, -890, -745, -744, -705, -687, -322, -287, -251, -209]\n",
      "[-848, -634, -517, -448, -389, 179, 466, 582, 706, 849]\n",
      "[-585, -544, -281, 287, 359, 364, 479, 777, 821, 974]\n",
      "[-679, -643, -595, -517, 182, 262, 284, 606, 679, 983]\n",
      "[-663, -344, -86, -43, 165, 324, 451, 480, 489, 645]\n",
      "[-915, -681, -612, -363, -162, -73, 213, 237, 342, 621]\n",
      "[-406, -360, -159, -117, 515, 518, 523, 560, 674, 816]\n",
      "[-976, -936, -719, -14, -12, 245, 267, 348, 588, 872]\n",
      "[-913, -863, -750, -671, -630, -578, -540, -254, 91, 373]\n",
      "[-763, -702, -666, -324, -264, -99, 312, 342, 569, 621]\n"
     ]
    }
   ],
   "source": [
    "def QS(matrix):\n",
    "    for i in range(n):\n",
    "        quicksort(matrix[i], 0, len(matrix))\n",
    "    return matrix\n",
    "def quicksort(arr, start, end):\n",
    "    if end - start > 1:\n",
    "        p = partition(arr, start, end)\n",
    "        quicksort(arr, start, p)\n",
    "        quicksort(arr, p + 1, end)\n",
    "\n",
    "def partition(arr, start, end):\n",
    "    pivot = arr[start]\n",
    "    i = start + 1\n",
    "    j = end - 1\n",
    "\n",
    "    while True:\n",
    "        while (i <= j and arr[i] <= pivot):\n",
    "            i = i + 1\n",
    "        while (i <= j and arr[j] >= pivot):\n",
    "            j = j - 1\n",
    "\n",
    "        if i <= j:\n",
    "            arr[i], arr[j] = arr[j], arr[i]\n",
    "        else:\n",
    "            arr[start], arr[j] = arr[j], arr[start]\n",
    "            return j\n",
    "matrix2 = QS(matrix)\n",
    "for i in range(n):\n",
    "    print(matrix2[i])"
   ]
  },
  {
   "cell_type": "markdown",
   "id": "enormous-strand",
   "metadata": {},
   "source": [
    "### Турнирная сортировка"
   ]
  },
  {
   "cell_type": "code",
   "execution_count": 8,
   "id": "liable-pointer",
   "metadata": {},
   "outputs": [
    {
     "name": "stdout",
     "output_type": "stream",
     "text": [
      "[-981, -890, -745, -744, -705, -687, -322, -287, -251, -209]\n",
      "[-848, -634, -517, -448, -389, 179, 466, 582, 706, 849]\n",
      "[-585, -544, -281, 287, 359, 364, 479, 777, 821, 974]\n",
      "[-679, -643, -595, -517, 182, 262, 284, 606, 679, 983]\n",
      "[-663, -344, -86, -43, 165, 324, 451, 480, 489, 645]\n",
      "[-915, -681, -612, -363, -162, -73, 213, 237, 342, 621]\n",
      "[-406, -360, -159, -117, 515, 518, 523, 560, 674, 816]\n",
      "[-976, -936, -719, -14, -12, 245, 267, 348, 588, 872]\n",
      "[-913, -863, -750, -671, -630, -578, -540, -254, 91, 373]\n",
      "[-763, -702, -666, -324, -264, -99, 312, 342, 569, 621]\n"
     ]
    }
   ],
   "source": [
    "def RTournament(matrix): \n",
    "    for i in range (n):\n",
    "        tournament(matrix[i])\n",
    "    return matrix\n",
    "def tournament(array):\n",
    "    for i in range(len(array)):\n",
    "        a = 1\n",
    "        while a < len(array):\n",
    "            k = 0\n",
    "            while k*a*2 < len(array):\n",
    "                if k*a*2+a < len(array):\n",
    "                    if array[k*a*2 + a] < array[k*a*2]:\n",
    "                        array[k*a*2 + a], array[k*a*2] = array[k*a*2], array[k*a*2+a]\n",
    "                k+=1\n",
    "            a*=2\n",
    "    return array\n",
    "matrix8 = RTournament(matrix)\n",
    "for i in range(n):\n",
    "    print(matrix8[i])"
   ]
  },
  {
   "cell_type": "markdown",
   "id": "executive-monte",
   "metadata": {},
   "source": [
    "### Пирамедальная сортировка"
   ]
  },
  {
   "cell_type": "code",
   "execution_count": 9,
   "id": "innocent-election",
   "metadata": {},
   "outputs": [
    {
     "name": "stdout",
     "output_type": "stream",
     "text": [
      "[-981, -890, -745, -744, -705, -687, -322, -287, -251, -209]\n",
      "[-848, -634, -517, -448, -389, 179, 466, 582, 706, 849]\n",
      "[-585, -544, -281, 287, 359, 364, 479, 777, 821, 974]\n",
      "[-679, -643, -595, -517, 182, 262, 284, 606, 679, 983]\n",
      "[-663, -344, -86, -43, 165, 324, 451, 480, 489, 645]\n",
      "[-915, -681, -612, -363, -162, -73, 213, 237, 342, 621]\n",
      "[-406, -360, -159, -117, 515, 518, 523, 560, 674, 816]\n",
      "[-976, -936, -719, -14, -12, 245, 267, 348, 588, 872]\n",
      "[-913, -863, -750, -671, -630, -578, -540, -254, 91, 373]\n",
      "[-763, -702, -666, -324, -264, -99, 312, 342, 569, 621]\n"
     ]
    }
   ],
   "source": [
    "def RHeap(matrix): \n",
    "    for i in range (n):\n",
    "        heap(matrix[i])\n",
    "    return matrix\n",
    "\n",
    "def heap(array):  \n",
    "    for i in range(len(array), -1, -1):\n",
    "        heapify(array, len(array), i)\n",
    "    for i in range(len(array) - 1, 0, -1):\n",
    "        array[i], array[0] = array[0], array[i]\n",
    "        heapify(array, i, 0)\n",
    "    return array\n",
    "\n",
    "def heapify(array, n, k):  \n",
    "    largest = k\n",
    "    left = 2 * k + 1\n",
    "    right = 2 * k + 2\n",
    "    if left < n and array[largest] < array[left]:\n",
    "        largest = left\n",
    "    if right < n and array[largest] < array[right]:\n",
    "        largest = right\n",
    "    if largest != k:\n",
    "        array[k], array[largest] = array[largest], array[k]\n",
    "        heapify(array, n, largest)\n",
    "    return array\n",
    "\n",
    "matrix9 = matrix\n",
    "matrix9 = RHeap(matrix)\n",
    "for i in range(n):\n",
    "    print(matrix9[i])"
   ]
  },
  {
   "cell_type": "markdown",
   "id": "academic-torture",
   "metadata": {},
   "source": [
    "### Время работы функций "
   ]
  },
  {
   "cell_type": "code",
   "execution_count": 10,
   "id": "acceptable-opposition",
   "metadata": {},
   "outputs": [
    {
     "name": "stdout",
     "output_type": "stream",
     "text": [
      "Сортировка по умолчанию   1.0500000000135401e-05\n",
      "Сортировка выбором        0.00013129999999961228\n",
      "Сортировка вставкой       7.789999999996411e-05\n",
      "Сортировка обменом        0.00010750000000037119\n",
      "Сортировка Шелла          0.00026130000000001985\n",
      "Пирамидальня Сортировка   0.000924800000000392\n",
      "Турнирная сортировка      0.0010021000000000058\n",
      "Быстрая сортировка        0.00021040000000027703\n"
     ]
    }
   ],
   "source": [
    "import timeit\n",
    "\n",
    "# Сортировка массива и вывод времени\n",
    "print(\"Сортировка по умолчанию   \" + str(timeit.timeit(\"default_sort(matrix)\", number=1, globals=globals())))\n",
    "print(\"Сортировка выбором        \" + str(timeit.timeit(\"RSelection(matrix)\", number=1, globals=globals())))\n",
    "print(\"Сортировка вставкой       \" + str(timeit.timeit(\"RInsertion(matrix)\", number=1, globals=globals())))\n",
    "print(\"Сортировка обменом        \" + str(timeit.timeit(\"RBubble(matrix)\", number=1, globals=globals())))\n",
    "print(\"Сортировка Шелла          \" + str(timeit.timeit(\"RShell(matrix)\", number=1, globals=globals())))\n",
    "print(\"Пирамидальня Сортировка   \" + str(timeit.timeit(\"RHeap(matrix)\", number=1, globals=globals())))\n",
    "print(\"Турнирная сортировка      \" + str(timeit.timeit(\"RTournament(matrix)\", number=1, globals=globals())))\n",
    "print(\"Быстрая сортировка        \" + str(timeit.timeit(\"QS(matrix)\", number=1, globals=globals())))\n"
   ]
  },
  {
   "cell_type": "markdown",
   "id": "collective-stationery",
   "metadata": {},
   "source": [
    "## Вывод\n",
    "Реализовали методы сортировки строк числовой матрицы в соответствии с\n",
    "заданием. Оценили время работы каждого алгоритма сортировки и сравнили его со\n",
    "временем стандартной функции сортировки. Испытания проводили на сгенерированных\n",
    "матрицах."
   ]
  },
  {
   "cell_type": "code",
   "execution_count": null,
   "id": "technological-worcester",
   "metadata": {},
   "outputs": [],
   "source": []
  }
 ],
 "metadata": {
  "kernelspec": {
   "display_name": "Python 3",
   "language": "python",
   "name": "python3"
  },
  "language_info": {
   "codemirror_mode": {
    "name": "ipython",
    "version": 3
   },
   "file_extension": ".py",
   "mimetype": "text/x-python",
   "name": "python",
   "nbconvert_exporter": "python",
   "pygments_lexer": "ipython3",
   "version": "3.9.1"
  }
 },
 "nbformat": 4,
 "nbformat_minor": 5
}
