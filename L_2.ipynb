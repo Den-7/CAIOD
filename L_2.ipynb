{
 "cells": [
  {
   "cell_type": "markdown",
   "id": "monthly-placement",
   "metadata": {},
   "source": [
    "# Лабораторная работа №2. Методы поиска"
   ]
  },
  {
   "cell_type": "markdown",
   "id": "basic-constitution",
   "metadata": {},
   "source": [
    "### Выполнил студент группы БВТ1901 Смирнов Данил"
   ]
  },
  {
   "cell_type": "markdown",
   "id": "native-effects",
   "metadata": {},
   "source": [
    "Задача\n",
    "\n",
    "Задание №1: Бинарный поиск |Бинарное дерево |Фибоначчиев |Интерполяционный\n",
    "\n",
    "Задание №2: Простое рехэширование |Рехэширование с помощью псевдослучайных чисел |Метод цепочек\n",
    "\n",
    "Задание № 3:\n",
    "\n",
    "Расставить на стандартной 64-клеточной шахматной доске 8 ферзей так, чтобы ни один из них не находился под боем другого». Подразумевается, что ферзь бьёт все клетки, расположенные по вертикалям, горизонталям и обеим диагоналям Написать программу, которая находит хотя бы один способ решения задач."
   ]
  },
  {
   "cell_type": "markdown",
   "id": "center-throat",
   "metadata": {},
   "source": [
    "## Задание 1"
   ]
  },
  {
   "cell_type": "code",
   "execution_count": 25,
   "id": "dying-canada",
   "metadata": {},
   "outputs": [
    {
     "name": "stdout",
     "output_type": "stream",
     "text": [
      "[10, 79, 5, 86, 28, 33, 39, 45, 16, 20, 25, 81, 19, 30, 16, 26, 72, 44, 25, 19, 100, 69, 48, 48, 22, 100, 35, 85, 66, 40, 57, 62, 80, 14, 65, 22, 93, 97, 76, 2, 20, 85, 8, 87, 49, 13, 73, 31, 51, 62, 93, 39, 25, 79, 26, 2, 59, 37, 79, 11, 18, 36, 4, 95, 62, 49, 62, 93, 96, 62, 8, 45, 42, 98, 3, 45, 60, 55, 88, 83, 90, 36, 35, 53, 96, 73, 14, 81, 61, 45, 97, 36, 32, 40, 46, 83, 99, 67, 67, 91]\n",
      "[2, 2, 3, 4, 5, 8, 8, 10, 11, 13, 14, 14, 16, 16, 18, 19, 19, 20, 20, 22, 22, 25, 25, 25, 26, 26, 28, 30, 31, 32, 33, 35, 35, 36, 36, 36, 37, 39, 39, 40, 40, 42, 44, 45, 45, 45, 45, 46, 48, 48, 49, 49, 51, 53, 55, 57, 59, 60, 61, 62, 62, 62, 62, 62, 65, 66, 67, 67, 69, 72, 73, 73, 76, 79, 79, 79, 80, 81, 81, 83, 83, 85, 85, 86, 87, 88, 90, 91, 93, 93, 93, 95, 96, 96, 97, 97, 98, 99, 100, 100]\n"
     ]
    }
   ],
   "source": [
    "import random\n",
    "\n",
    "def generate_array(length=100):  # генерируем случайный массив\n",
    "    array = []\n",
    "    while len(array) < length:\n",
    "        array.append(random.randint(0, 100))\n",
    "    return array\n",
    "\n",
    "def default_sort(array):  # Сортируем \n",
    "    ans = array.copy()\n",
    "    ans.sort()\n",
    "    return ans\n",
    "\n",
    "init_array = generate_array(100)\n",
    "print(init_array)\n",
    "\n",
    "sorted_array = default_sort(init_array)\n",
    "print(sorted_array)"
   ]
  },
  {
   "cell_type": "markdown",
   "id": "guilty-scottish",
   "metadata": {},
   "source": [
    "### Бинарный поиск"
   ]
  },
  {
   "cell_type": "code",
   "execution_count": 26,
   "id": "infrared-vision",
   "metadata": {},
   "outputs": [],
   "source": [
    "def binary_search(array, element):\n",
    "    arr_length = len(array)\n",
    "    left = 0\n",
    "    right = arr_length\n",
    "    middle = arr_length // 2\n",
    "    while array[middle] != element:\n",
    "        if right - left == 1: \n",
    "            return -1\n",
    "        if array[middle] > element:\n",
    "            right = middle\n",
    "        else:\n",
    "            left = middle\n",
    "        middle = (right + left) // 2\n",
    "    return middle"
   ]
  },
  {
   "cell_type": "code",
   "execution_count": 27,
   "id": "explicit-amateur",
   "metadata": {},
   "outputs": [
    {
     "name": "stdout",
     "output_type": "stream",
     "text": [
      "[2, 2, 3, 4, 5, 8, 8, 10, 11, 13, 14, 14, 16, 16, 18, 19, 19, 20, 20, 22, 22, 25, 25, 25, 26, 26, 28, 30, 31, 32, 33, 35, 35, 36, 36, 36, 37, 39, 39, 40, 40, 42, 44, 45, 45, 45, 45, 46, 48, 48, 49, 49, 51, 53, 55, 57, 59, 60, 61, 62, 62, 62, 62, 62, 65, 66, 67, 67, 69, 72, 73, 73, 76, 79, 79, 79, 80, 81, 81, 83, 83, 85, 85, 86, 87, 88, 90, 91, 93, 93, 93, 95, 96, 96, 97, 97, 98, 99, 100, 100]\n",
      "Элемент 100 имеет индекс 98\n"
     ]
    }
   ],
   "source": [
    "element_to_search = 100\n",
    "binary_search_array = default_sort(init_array)\n",
    "print(binary_search_array)\n",
    "\n",
    "print('Элемент %i имеет индекс %i' % (element_to_search, binary_search(binary_search_array, element_to_search)))\n"
   ]
  },
  {
   "cell_type": "markdown",
   "id": "separate-steal",
   "metadata": {},
   "source": [
    "### Бинарное дерево"
   ]
  },
  {
   "cell_type": "code",
   "execution_count": 40,
   "id": "typical-suffering",
   "metadata": {},
   "outputs": [],
   "source": [
    "class Tree:\n",
    "    def __init__(self, value):\n",
    "        self.value = value\n",
    "        self.left = None\n",
    "        self.right = None\n",
    "\n",
    "        \n",
    "class BinaryTree:\n",
    "    def __init__(self):\n",
    "        self.root = None\n",
    "\n",
    "\n",
    "    def insert(self, value):\n",
    "        if self.root is None:\n",
    "            self.root = Tree(value)\n",
    "        else:\n",
    "            self._insert(value, self.root)\n",
    "\n",
    "    \n",
    "    def _insert(self, value, cur_node):\n",
    "        if value < cur_node.value:\n",
    "            if cur_node.left is None:\n",
    "                cur_node.left = Tree(value)\n",
    "            else:\n",
    "                self._insert(value, cur_node.left)\n",
    "        elif value > cur_node.value:\n",
    "            if cur_node.right is None:\n",
    "                cur_node.right = Tree(value)\n",
    "            else:\n",
    "                self._insert(value, cur_node.right)\n",
    "        else:\n",
    "            print(\"Значение %i уже добавлено в дерево\" % (cur_node.value))\n",
    "\n",
    "    \n",
    "    def search(self, value):\n",
    "        array = []\n",
    "        if self.root is not None:\n",
    "            return self._search(value, self.root, array)\n",
    "        else:\n",
    "            array.append(False)\n",
    "            return array\n",
    "    \n",
    "\n",
    "    def _search(self, value, cur_node, array):\n",
    "        array.append(cur_node.value)\n",
    "        if value == cur_node.value:\n",
    "            return array\n",
    "        elif value < cur_node.value and cur_node.left is not None:\n",
    "            return self._search(value, cur_node.left, array)\n",
    "        elif value > cur_node.value and cur_node.right is not None:\n",
    "            return self._search(value, cur_node.right, array)\n",
    "        array.append(False)\n",
    "        return array\n",
    "    \n",
    "    def delete(self, value):\n",
    "        find_delete = tree.search(value)\n",
    "        if find_delete[-1] == False:\n",
    "            print(\"Данного элемента НЕТ в дереве\")\n",
    "        elif find_delete[0] == False:\n",
    "            print(\"Дерево ПУСТОЕ\")\n",
    "        else:\n",
    "            self.pop(find_delete)\n",
    "\n",
    "def gen_tree(tree, num_elems, min_int, max_int):\n",
    "    for i in range(num_elems):\n",
    "        cur_elem = random.randint(min_int, max_int)\n",
    "        tree.insert(cur_elem)\n",
    "    return tree\n",
    "\n",
    "\n",
    "tree = BinaryTree()"
   ]
  },
  {
   "cell_type": "code",
   "execution_count": 41,
   "id": "chronic-accuracy",
   "metadata": {},
   "outputs": [
    {
     "name": "stdout",
     "output_type": "stream",
     "text": [
      "Значение 6 уже добавлено в дерево\n",
      "Значение 0 уже добавлено в дерево\n",
      "Значение 10 уже добавлено в дерево\n"
     ]
    }
   ],
   "source": [
    "# Generate of Tree \n",
    "bin_tree = gen_tree(tree, 10, 0, 10) # ...размер, мин, макс значения"
   ]
  },
  {
   "cell_type": "code",
   "execution_count": 42,
   "id": "certain-concentrate",
   "metadata": {},
   "outputs": [],
   "source": [
    "def binary_tree_search(array, element_to_search):\n",
    "# Find element in Tree\n",
    "    #element_to_search = 99\n",
    "    find_num = tree.search(element_to_search)\n",
    "\n",
    "    if find_num[0] == False:\n",
    "        print(\"Дерево ПУСТОЕ\")\n",
    "    elif find_num[-1] == False:\n",
    "        print(\"Числа %i НЕТ в дереве\" % (element_to_search))\n",
    "    else:\n",
    "        for_print = \"\"\n",
    "        for i in find_num:\n",
    "            for_print += str(i) + \" -> \"\n",
    "        print(for_print[0:-4])\n",
    "    return "
   ]
  },
  {
   "cell_type": "code",
   "execution_count": 43,
   "id": "environmental-manual",
   "metadata": {},
   "outputs": [
    {
     "name": "stdout",
     "output_type": "stream",
     "text": [
      "6 -> 8\n"
     ]
    }
   ],
   "source": [
    "binary_tree_search(bin_tree,8)"
   ]
  },
  {
   "cell_type": "markdown",
   "id": "intelligent-monte",
   "metadata": {},
   "source": [
    "### Фибоначчиев поиск"
   ]
  },
  {
   "cell_type": "code",
   "execution_count": 8,
   "id": "fluid-thumb",
   "metadata": {},
   "outputs": [],
   "source": [
    "def fibonacci_search(array, element):\n",
    "    arr_length = len(array)\n",
    "    fpast = 0\n",
    "    fnow = 1\n",
    "    while True:  # пытаемся найти промежуток, где находится наше значение\n",
    "        if fnow >= arr_length:  # дошли до конца массива промежутком\n",
    "            if array[arr_length - 1] < element:\n",
    "                return -1\n",
    "            else:\n",
    "                fnow = arr_length - 1\n",
    "                break\n",
    "        if array[fnow] >= element:\n",
    "            break\n",
    "        buffer = fnow\n",
    "        fnow = fnow + fpast\n",
    "        fpast = buffer\n",
    "\n",
    "    for i in range(fpast, fnow + 1):\n",
    "        if array[i] == element:\n",
    "            return i\n",
    "    return -1"
   ]
  },
  {
   "cell_type": "code",
   "execution_count": 9,
   "id": "incoming-turkish",
   "metadata": {},
   "outputs": [
    {
     "name": "stdout",
     "output_type": "stream",
     "text": [
      "[1, 1, 1, 2, 3, 4, 7, 7, 9, 10, 11, 12, 12, 13, 15, 15, 16, 18, 19, 20, 22, 22, 25, 25, 27, 31, 35, 36, 36, 36, 37, 37, 37, 38, 40, 42, 43, 43, 45, 45, 46, 46, 47, 48, 49, 49, 52, 52, 53, 54, 54, 54, 54, 55, 56, 57, 57, 57, 58, 59, 61, 61, 61, 61, 62, 64, 64, 64, 65, 65, 67, 67, 68, 68, 69, 69, 71, 71, 71, 75, 75, 80, 81, 85, 86, 86, 87, 88, 88, 89, 92, 92, 92, 92, 96, 97, 98, 98, 99, 100]\n",
      "Элемент 4 имеет индекс 5\n"
     ]
    }
   ],
   "source": [
    "fibonacci_array = default_sort(init_array)\n",
    "print(fibonacci_array)\n",
    "element_to_search = 4\n",
    "\n",
    "print('Элемент %i имеет индекс %i' % (element_to_search, fibonacci_search(fibonacci_array, element_to_search)))"
   ]
  },
  {
   "cell_type": "markdown",
   "id": "metropolitan-checkout",
   "metadata": {},
   "source": [
    "### Интерполяционный поиск"
   ]
  },
  {
   "cell_type": "code",
   "execution_count": 48,
   "id": "united-border",
   "metadata": {},
   "outputs": [],
   "source": [
    "def interpolation_search(array, element):\n",
    "    low = 0\n",
    "    high = len(array) - 1\n",
    "    while array[low] < element < array[high]:\n",
    "        if array[high] == array[low]:\n",
    "            break\n",
    "        mid =  ((element - array[low]) * (high - low) // (array[high] - array[low]))\n",
    "        if array[mid] < element:\n",
    "            low = mid + 1\n",
    "        elif array[mid] > element:\n",
    "            high = mid - 1\n",
    "        else:\n",
    "            return mid\n",
    "    if array[low] == element:\n",
    "        return low\n",
    "    if array[high] == element:\n",
    "        return high\n",
    "\n",
    "    return -1"
   ]
  },
  {
   "cell_type": "code",
   "execution_count": 49,
   "id": "fourth-latin",
   "metadata": {},
   "outputs": [
    {
     "name": "stdout",
     "output_type": "stream",
     "text": [
      "[2, 2, 3, 4, 5, 8, 8, 10, 11, 13, 14, 14, 16, 16, 18, 19, 19, 20, 20, 22, 22, 25, 25, 25, 26, 26, 28, 30, 31, 32, 33, 35, 35, 36, 36, 36, 37, 39, 39, 40, 40, 42, 44, 45, 45, 45, 45, 46, 48, 48, 49, 49, 51, 53, 55, 57, 59, 60, 61, 62, 62, 62, 62, 62, 65, 66, 67, 67, 69, 72, 73, 73, 76, 79, 79, 79, 80, 81, 81, 83, 83, 85, 85, 86, 87, 88, 90, 91, 93, 93, 93, 95, 96, 96, 97, 97, 98, 99, 100, 100]\n",
      "Элемент 4 имеет индекс 3\n"
     ]
    }
   ],
   "source": [
    "interpolated_array = default_sort(init_array)\n",
    "print(interpolated_array)\n",
    "element_to_search = 4\n",
    "\n",
    "print('Элемент %i имеет индекс %i' % (element_to_search, interpolation_search(interpolated_array, element_to_search)))"
   ]
  },
  {
   "cell_type": "markdown",
   "id": "separate-belgium",
   "metadata": {},
   "source": [
    "### Скорость выполнения"
   ]
  },
  {
   "cell_type": "code",
   "execution_count": 12,
   "id": "least-upset",
   "metadata": {},
   "outputs": [
    {
     "name": "stdout",
     "output_type": "stream",
     "text": [
      "ищем 88 в массиве [1, 2, 4, 5, 6, 8, 8, 8, 10, 13, 13, 15, 15, 19, 20, 20, 22, 23, 23, 24, 25, 26, 27, 28, 29, 29, 29, 29, 31, 32, 35, 36, 36, 39, 39, 40, 40, 40, 41, 41, 42, 42, 43, 46, 47, 49, 50, 51, 51, 51, 56, 57, 58, 58, 59, 59, 60, 61, 61, 62, 62, 62, 63, 65, 65, 67, 67, 69, 69, 71, 75, 77, 78, 79, 79, 79, 80, 81, 82, 84, 85, 88, 89, 90, 91, 91, 94, 94, 95, 95, 96, 96, 97, 97, 97, 97, 98, 99, 100, 100]\n",
      "двоичный поиск             5.800000000277805e-06\n",
      "Числа 88 НЕТ в дереве\n",
      "поиск в бинарном дереве    9.060000000005175e-05\n",
      "фибоначчиев поиск          1.1200000001210242e-05\n",
      "интерполяционный поиск     7.300000000043383e-06\n",
      "поиск по умолчанию         9.200000000930686e-06\n"
     ]
    }
   ],
   "source": [
    "import timeit\n",
    "\n",
    "our_element = random.randint(0,100)\n",
    "our_array = default_sort(generate_array(100))\n",
    "print('ищем %i в массиве %a' %(our_element, our_array))\n",
    "\n",
    "\n",
    "print(\"двоичный поиск             \" + str(timeit.timeit(\"binary_search(binary_search_array, our_element)\", number=1, globals=globals())))\n",
    "print(\"поиск в бинарном дереве    \" + str(timeit.timeit(\"binary_tree_search(binary_search_array, our_element)\", number=1, globals=globals())))\n",
    "print(\"фибоначчиев поиск          \" + str(timeit.timeit(\"fibonacci_search(binary_search_array, our_element)\", number=1, globals=globals())))\n",
    "print(\"интерполяционный поиск     \" + str(timeit.timeit(\"interpolation_search(binary_search_array, our_element)\", number=1, globals=globals())))\n",
    "print(\"поиск по умолчанию         \" + str(timeit.timeit(\"our_array.__contains__(our_element)\", number=1, globals=globals())))"
   ]
  },
  {
   "cell_type": "markdown",
   "id": "stretch-supplier",
   "metadata": {},
   "source": [
    "## Задание 2"
   ]
  },
  {
   "cell_type": "code",
   "execution_count": 13,
   "id": "young-martial",
   "metadata": {},
   "outputs": [],
   "source": [
    "class ClassForRehash:\n",
    "    def __init__(self, value1):\n",
    "        self.value1 = value1\n",
    "        self.hash = value1 % ClassForRehash.MAX_HASH_TABLE\n",
    "        self.hash2 = int((value1 * 21 + 2) % ClassForRehash.MAX_HASH_TABLE)\n",
    "    MAX_HASH_TABLE = 10"
   ]
  },
  {
   "cell_type": "markdown",
   "id": "available-affairs",
   "metadata": {},
   "source": [
    "### Простое рехэширование"
   ]
  },
  {
   "cell_type": "code",
   "execution_count": 14,
   "id": "general-occupation",
   "metadata": {},
   "outputs": [],
   "source": [
    "class SimpleRehashTable:\n",
    "\n",
    "    def __init__(self, length):\n",
    "        self.table = [None] * length\n",
    "\n",
    "    def add_el(self, element): #Если ячейка пустая-добавляем элемент.\n",
    "        original_hash = element.hash\n",
    "        if self.table[original_hash] is None:\n",
    "            self.table[original_hash] = element\n",
    "            print(\"объект со значением %i имеет хэш: %i \"\n",
    "                  % (self.table[original_hash].value1, element.hash))\n",
    "            return\n",
    "\n",
    " ## -------       \n",
    "        new_hash = original_hash + 1\n",
    "        while new_hash != original_hash:\n",
    "            if new_hash >= len(self.table):\n",
    "                new_hash = 0\n",
    "                continue\n",
    "            if self.table[new_hash] is None:\n",
    "                element.hash = new_hash\n",
    "                self.table[new_hash] = element\n",
    "                print(\"объект со значением %i имеет хэш: %i (рехешировано. коллизия была в хеше: %i)\"\n",
    "                      % (self.table[new_hash].value1, element.hash, original_hash))\n",
    "                return\n",
    "            new_hash += 1\n",
    "        print(\"таблица заполнена!\")\n",
    "        return"
   ]
  },
  {
   "cell_type": "code",
   "execution_count": 15,
   "id": "atmospheric-project",
   "metadata": {},
   "outputs": [
    {
     "name": "stdout",
     "output_type": "stream",
     "text": [
      "объект со значением 3 имеет хэш: 3 \n",
      "объект со значением 15 имеет хэш: 5 \n",
      "объект со значением 18 имеет хэш: 8 \n",
      "объект со значением 9 имеет хэш: 9 \n",
      "объект со значением 17 имеет хэш: 7 \n",
      "объект со значением 18 имеет хэш: 0 (рехешировано. коллизия была в хеше: 8)\n",
      "объект со значением 18 имеет хэш: 1 (рехешировано. коллизия была в хеше: 8)\n",
      "объект со значением 1 имеет хэш: 2 (рехешировано. коллизия была в хеше: 1)\n",
      "объект со значением 10 имеет хэш: 4 (рехешировано. коллизия была в хеше: 0)\n",
      "объект со значением 18 имеет хэш: 6 (рехешировано. коллизия была в хеше: 8)\n"
     ]
    }
   ],
   "source": [
    "simple_re = SimpleRehashTable(ClassForRehash.MAX_HASH_TABLE)\n",
    "for i in range(len(simple_re.table)):\n",
    "    simple_re.add_el(ClassForRehash(random.randint(0, 20)))"
   ]
  },
  {
   "cell_type": "markdown",
   "id": "transparent-christopher",
   "metadata": {},
   "source": [
    "### Случайное рехэширование"
   ]
  },
  {
   "cell_type": "code",
   "execution_count": 16,
   "id": "signed-spanking",
   "metadata": {},
   "outputs": [],
   "source": [
    "class RandomRehashTable:\n",
    "    \n",
    "    def __init__(self, length):\n",
    "        self.table = [None] * length\n",
    "\n",
    "    def add_el(self, element):\n",
    "        original_hash = element.hash2\n",
    "        if self.table[original_hash] is None:\n",
    "            self.table[original_hash] = element\n",
    "            print(\"объект со значением %i имеет хэш: %i (рехеширование не требовалось)\"\n",
    "                  % (self.table[original_hash].value1, original_hash))\n",
    "            return\n",
    "\n",
    "      \n",
    "  # случайное рехеширование\n",
    "      \n",
    "        table_len = len(self.table)\n",
    "        new_hash = random.randint(0,9)\n",
    "        if self.table[new_hash] is None:\n",
    "                element.hash2 = new_hash\n",
    "                self.table[new_hash] = element\n",
    "                print(\"объект со значением %i имеет хэш: %i (рехешировано. коллизия была в хеше: %i)\"\n",
    "                      % (self.table[new_hash].value1, element.hash2, original_hash))\n",
    "                return\n",
    "        while self.table[new_hash] is not None: \n",
    "            new_hash = random.randint(0,9)    \n",
    "            if self.table[new_hash] is None:\n",
    "                element.hash2 = new_hash\n",
    "                self.table[new_hash] = element\n",
    "                print(\"объект со значением %i имеет хэш: %i (рехешировано. коллизия была в хеше: %i)\"\n",
    "                      % (self.table[new_hash].value1, element.hash2, original_hash))\n",
    "                return\n",
    "        print(\"Не удалось найти свободный хеш в таблице!\")\n",
    "        return\n",
    "     \n",
    "\n"
   ]
  },
  {
   "cell_type": "code",
   "execution_count": 17,
   "id": "expired-recommendation",
   "metadata": {},
   "outputs": [
    {
     "name": "stdout",
     "output_type": "stream",
     "text": [
      "объект со значением 10 имеет хэш: 2 (рехеширование не требовалось)\n",
      "объект со значением 2 имеет хэш: 4 (рехеширование не требовалось)\n",
      "объект со значением 17 имеет хэш: 9 (рехеширование не требовалось)\n",
      "объект со значением 8 имеет хэш: 0 (рехеширование не требовалось)\n",
      "объект со значением 3 имеет хэш: 5 (рехеширование не требовалось)\n",
      "объект со значением 15 имеет хэш: 7 (рехеширование не требовалось)\n",
      "объект со значением 10 имеет хэш: 3 (рехешировано. коллизия была в хеше: 2)\n",
      "объект со значением 0 имеет хэш: 8 (рехешировано. коллизия была в хеше: 2)\n",
      "объект со значением 19 имеет хэш: 1 (рехеширование не требовалось)\n",
      "объект со значением 9 имеет хэш: 6 (рехешировано. коллизия была в хеше: 1)\n"
     ]
    }
   ],
   "source": [
    "import random\n",
    "random_re = RandomRehashTable(ClassForRehash.MAX_HASH_TABLE)\n",
    "for i in range(len(random_re.table)):\n",
    "    random_re.add_el(ClassForRehash(random.randint(0, 20)))"
   ]
  },
  {
   "cell_type": "markdown",
   "id": "growing-holocaust",
   "metadata": {},
   "source": [
    "### Метод цепочек"
   ]
  },
  {
   "cell_type": "code",
   "execution_count": 18,
   "id": "above-bibliography",
   "metadata": {},
   "outputs": [],
   "source": [
    "class ChainRehashTable:\n",
    "\n",
    "    def __init__(self, length):\n",
    "        self.table = [None] * length\n",
    "\n",
    "    def add_el(self, element):\n",
    "        \n",
    "       # метод цепочек\n",
    "        \n",
    "        original_hash = element.hash\n",
    "        if self.table[original_hash] is None:\n",
    "            self.table[original_hash] = [element]\n",
    "            return\n",
    "        else:\n",
    "            length = len(self.table[original_hash])\n",
    "            self.table[original_hash].append(element)\n",
    "            return"
   ]
  },
  {
   "cell_type": "code",
   "execution_count": 19,
   "id": "distinguished-drink",
   "metadata": {},
   "outputs": [
    {
     "name": "stdout",
     "output_type": "stream",
     "text": [
      "Хеш: 0 || ------\n",
      "Хеш: 1 || 11 \n",
      "Хеш: 2 || 12 \n",
      "Хеш: 3 || 3 \n",
      "Хеш: 4 || 14 4 14 \n",
      "Хеш: 5 || 15 \n",
      "Хеш: 6 || 16 6 6 \n",
      "Хеш: 7 || ------\n",
      "Хеш: 8 || 8 8 \n",
      "Хеш: 9 || ------\n"
     ]
    }
   ],
   "source": [
    "chain_re = ChainRehashTable(ClassForRehash.MAX_HASH_TABLE)\n",
    "for i in range(len(chain_re.table) + 2):\n",
    "    chain_re.add_el(ClassForRehash(random.randint(0, 20)))\n",
    "hash = 0\n",
    "for x in chain_re.table:  # вывод хеш таблицы для метода цепочек\n",
    "    print(\"Хеш: %i ||\" % hash, end=\" \")\n",
    "    if x is None:\n",
    "        print(\"------\")\n",
    "    else:\n",
    "        for y in x:\n",
    "            print(y.value1, end=\" \")\n",
    "        print(\"\")\n",
    "    hash += 1"
   ]
  },
  {
   "cell_type": "markdown",
   "id": "thousand-effectiveness",
   "metadata": {},
   "source": [
    "## Задание 3"
   ]
  },
  {
   "cell_type": "code",
   "execution_count": 20,
   "id": "ethical-captain",
   "metadata": {},
   "outputs": [],
   "source": [
    "import random\n",
    "def make_quins_attack(array):\n",
    "    \"\"\"\n",
    "    пересчитывает клетки под атакой на всём поле\n",
    "    \"\"\"\n",
    "    length = len(array)\n",
    "    for y in range(length):  # очищаем закрытые клетки\n",
    "        for x in range(length):\n",
    "            if array[y][x] == 1:\n",
    "                array[y][x] = 0\n",
    "    for y in range(length):  # закрываем клетки\n",
    "        for x in range(length):\n",
    "            if array[y][x] == 2:\n",
    "                buffer = 0\n",
    "                for i in range(length):\n",
    "                    if array[i][x] == 0:  # закрываем клетки по вертикали\n",
    "                        array[i][x] = 1\n",
    "                    if array[y][i] == 0:  # закрываем клетки по горизонтали\n",
    "                        array[y][i] = 1\n",
    "                    # закрываем клетки по диагонали \\\n",
    "                    if x >= y and length > x - y + i >= 0:  # королева в верхней правой части доски\n",
    "                        if array[i][x - y + i] == 0:\n",
    "                            array[i][x - y + i] = 1\n",
    "                    elif length > y - x + i >= 0:  # королева в нижней левой части доски\n",
    "                        if array[y - x + i][i] == 0:\n",
    "                            array[y - x + i][i] = 1\n",
    "                    # закрываем клетки по диагонали /\n",
    "                    if x + y <= length and length > x + y - i >= 0:  # королева в верхней левой части доски\n",
    "                        if array[i][x + y - i] == 0:\n",
    "                            array[i][x + y - i] = 1\n",
    "                    elif length > y + x - i >= 0:  # королева в нижней правой части доски\n",
    "                        if array[y + x - i][i] == 0:\n",
    "                            array[y + x - i][i] = 1\n",
    "def filling_quins(array, quins_amount):\n",
    "    length = len(array)\n",
    "    for y in range(length):\n",
    "        for x in range(length):\n",
    "            if array[y][x] == 0:  # нашли свободное место для королевы\n",
    "                array[y][x] = 2\n",
    "                quins_amount -= 1\n",
    "                make_quins_attack(array)\n",
    "                if quins_amount == 0:  # королев не осталось\n",
    "                    return 1  # королевы успешно расставленны\n",
    "                if filling_quins(array, quins_amount) == 1:\n",
    "                    return 1  # королевы успешно расставленны\n",
    "                else:\n",
    "                    array[y][x] = 0\n",
    "                    quins_amount += 1\n",
    "                    make_quins_attack(array)\n",
    "    return -1  # неудача\n",
    "\n",
    "\n",
    "def chess_2(board_length, quins_amount):\n",
    "    board = [0] * board_length\n",
    "    for i in range(board_length):  # формируем нашу доску как массив из массивов\n",
    "        board[i] = [0] * board_length\n",
    "    if filling_quins(board, quins_amount) == 1:  # ищем доску\n",
    "        print(\"Комбинация найдена!\")\n",
    "    else:\n",
    "        print(\"Комбинации не существует!\")\n",
    "    return board"
   ]
  },
  {
   "cell_type": "code",
   "execution_count": 21,
   "id": "seventh-gibson",
   "metadata": {},
   "outputs": [
    {
     "name": "stdout",
     "output_type": "stream",
     "text": [
      "Комбинация найдена!\n",
      "👑1️⃣1️⃣1️⃣1️⃣1️⃣1️⃣1️⃣\n",
      "1️⃣1️⃣1️⃣1️⃣👑1️⃣1️⃣1️⃣\n",
      "1️⃣1️⃣1️⃣1️⃣1️⃣1️⃣1️⃣👑\n",
      "1️⃣1️⃣1️⃣1️⃣1️⃣👑1️⃣1️⃣\n",
      "1️⃣1️⃣👑1️⃣1️⃣1️⃣1️⃣1️⃣\n",
      "1️⃣1️⃣1️⃣1️⃣1️⃣1️⃣👑1️⃣\n",
      "1️⃣👑1️⃣1️⃣1️⃣1️⃣1️⃣1️⃣\n",
      "1️⃣1️⃣1️⃣👑1️⃣1️⃣1️⃣1️⃣\n"
     ]
    }
   ],
   "source": [
    "class Colors:\n",
    "    \n",
    "    RESET = '\\u001b[0m'\n",
    "    \n",
    "#Величина поля 8 кол-во королев \n",
    "our_board = chess_2(8, 8)\n",
    "for y in our_board:\n",
    "    for x in y:       \n",
    "#пустые поля\n",
    "        if x == 0:\n",
    "                print(\"0️⃣\", end='')\n",
    "#Заполненные поля \n",
    "        elif x == 1:\n",
    "            print(\"1️⃣\", end='')\n",
    "#Заполненные королевой \n",
    "        else:\n",
    "            print( \"👑\", end='')\n",
    "    print('')"
   ]
  },
  {
   "cell_type": "code",
   "execution_count": null,
   "id": "herbal-registrar",
   "metadata": {},
   "outputs": [],
   "source": []
  },
  {
   "cell_type": "code",
   "execution_count": null,
   "id": "virtual-chemical",
   "metadata": {},
   "outputs": [],
   "source": []
  }
 ],
 "metadata": {
  "kernelspec": {
   "display_name": "Python 3",
   "language": "python",
   "name": "python3"
  },
  "language_info": {
   "codemirror_mode": {
    "name": "ipython",
    "version": 3
   },
   "file_extension": ".py",
   "mimetype": "text/x-python",
   "name": "python",
   "nbconvert_exporter": "python",
   "pygments_lexer": "ipython3",
   "version": "3.9.1"
  }
 },
 "nbformat": 4,
 "nbformat_minor": 5
}
